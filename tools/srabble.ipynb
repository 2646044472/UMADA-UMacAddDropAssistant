{
 "cells": [
  {
   "cell_type": "code",
   "execution_count": 1,
   "id": "24f40d4e-5633-42f7-b69e-422dd4eb87b9",
   "metadata": {},
   "outputs": [],
   "source": [
    "import numpy as np\n",
    "import pandas as pd\n",
    "df = pd.read_excel('GE.xlsx')"
   ]
  },
  {
   "cell_type": "code",
   "execution_count": 2,
   "id": "7c85d501-6c71-4843-8c37-01315d329729",
   "metadata": {},
   "outputs": [],
   "source": [
    "course_list = df.iloc[:, 2].tolist()"
   ]
  },
  {
   "cell_type": "code",
   "execution_count": 3,
   "id": "a771e3b3-de4d-4cd6-8cb2-d999e04ea096",
   "metadata": {},
   "outputs": [],
   "source": [
    "course_list = course_list[3:]"
   ]
  },
  {
   "cell_type": "code",
   "execution_count": 4,
   "id": "fe9dd844-9274-4925-a8ba-4b200bfc1a55",
   "metadata": {},
   "outputs": [],
   "source": [
    "course_list = list(set(course_list))"
   ]
  },
  {
   "cell_type": "code",
   "execution_count": 5,
   "id": "4da26ecf-5517-41e5-ad20-41229d2ce895",
   "metadata": {},
   "outputs": [],
   "source": [
    "with open('GE course name.txt', 'w') as file:\n",
    "    for course in course_list:\n",
    "        file.write(str(course) + '\\n')"
   ]
  },
  {
   "cell_type": "code",
   "execution_count": 6,
   "id": "08352dfd-dfda-4523-be29-d08b93b0dc97",
   "metadata": {},
   "outputs": [
    {
     "data": {
      "text/plain": [
       "['GEST1001',\n",
       " 'GEST1017',\n",
       " 'GELH2001',\n",
       " 'GEST1019',\n",
       " 'GELH2008',\n",
       " 'GEST1015',\n",
       " 'GEGA1000',\n",
       " 'GESB2004',\n",
       " 'GESB1003',\n",
       " 'GELH1009']"
      ]
     },
     "execution_count": 6,
     "metadata": {},
     "output_type": "execute_result"
    }
   ],
   "source": [
    "course_list[:10]"
   ]
  },
  {
   "cell_type": "code",
   "execution_count": 7,
   "id": "32315f1b-7c5f-4e76-87d2-cd6838e55251",
   "metadata": {},
   "outputs": [
    {
     "name": "stderr",
     "output_type": "stream",
     "text": [
      "Processing GESB1003: TERESA LANCRY DE GOUVEIA DE ALBUQUERQUE E SOUSA ROBALO | Total entries: 74:  16"
     ]
    },
    {
     "name": "stdout",
     "output_type": "stream",
     "text": [
      "something went wrong with GELH1009\n"
     ]
    },
    {
     "name": "stderr",
     "output_type": "stream",
     "text": [
      "Processing GEST2000: LEI SI MAN | Total entries: 92:  26%|██▌       | 15/58 [00:36<01:22,  1.91s/it]"
     ]
    },
    {
     "name": "stdout",
     "output_type": "stream",
     "text": [
      "something went wrong with GEGA1001\n"
     ]
    },
    {
     "name": "stderr",
     "output_type": "stream",
     "text": [
      "Processing GEST1005: CHAN WING HAN BRENDA | Total entries: 94:  29%|▎| 17/58 [00:43<01:44,  2.54s/it"
     ]
    },
    {
     "name": "stdout",
     "output_type": "stream",
     "text": [
      "something went wrong with GEGA1008\n"
     ]
    },
    {
     "name": "stderr",
     "output_type": "stream",
     "text": [
      "Processing GEST2003: XIN CHEN | Total entries: 233:  66%|███████▏   | 38/58 [01:27<00:40,  2.04s/it]"
     ]
    },
    {
     "name": "stdout",
     "output_type": "stream",
     "text": [
      "something went wrong with GELH1012\n"
     ]
    },
    {
     "name": "stderr",
     "output_type": "stream",
     "text": [
      "Processing GESB1009: CHANG SIO NGA | Total entries: 248:  72%|████▎ | 42/58 [01:38<00:34,  2.17s/it]"
     ]
    },
    {
     "name": "stdout",
     "output_type": "stream",
     "text": [
      "something went wrong with GELH2010\n"
     ]
    },
    {
     "name": "stderr",
     "output_type": "stream",
     "text": [
      "Processing GESB2002: ZHANG LIWEN | Total entries: 250:  74%|█████▉  | 43/58 [01:44<00:48,  3.23s/it]"
     ]
    },
    {
     "name": "stdout",
     "output_type": "stream",
     "text": [
      "something went wrong with GESB1015\n"
     ]
    },
    {
     "name": "stderr",
     "output_type": "stream",
     "text": [
      "Processing GEST1010: MAK PENG UN | Total entries: 271:  86%|██████▉ | 50/58 [02:00<00:16,  2.01s/it]"
     ]
    },
    {
     "name": "stdout",
     "output_type": "stream",
     "text": [
      "something went wrong with GEGA2008\n"
     ]
    },
    {
     "name": "stderr",
     "output_type": "stream",
     "text": [
      "Processing GESB2003: MAC VAI IUN | Total entries: 273:  88%|███████ | 51/58 [02:04<00:17,  2.44s/it]\n"
     ]
    }
   ],
   "source": [
    "from selenium import webdriver\n",
    "from selenium.webdriver.common.by import By\n",
    "from selenium.webdriver.support.ui import WebDriverWait\n",
    "from selenium.webdriver.support import expected_conditions as EC\n",
    "import pandas as pd\n",
    "import time\n",
    "from tqdm import tqdm\n",
    "\n",
    "courses = []\n",
    "with open('GE course name.txt', 'r') as file:\n",
    "    lines = file.read().splitlines()\n",
    "    courses = [line.strip() for line in lines]\n",
    "\n",
    "df = pd.DataFrame(columns=['course_name', 'name', 'overall_grade', 'grade', 'difficulty', 'useful', 'comments'])\n",
    "\n",
    "wd = webdriver.Edge()\n",
    "wd.implicitly_wait(2)\n",
    "\n",
    "total_entries = 0\n",
    "\n",
    "pbar = tqdm(total=len(courses), desc=\"Processing courses\", ncols=100)\n",
    "\n",
    "for course_name in courses:\n",
    "    wd.get(f\"https://www.umeh.top/course/{course_name}\")\n",
    "    time.sleep(1)\n",
    "    \n",
    "    try:\n",
    "        teacher_blocks = WebDriverWait(wd, 2).until(\n",
    "            EC.presence_of_all_elements_located((By.CSS_SELECTOR, 'a[href^=\"/reviews/\"]'))\n",
    "        )\n",
    "        \n",
    "        course_entries = 0\n",
    "        for block in teacher_blocks:\n",
    "            try:\n",
    "                name = block.find_element(By.CSS_SELECTOR, 'div.break-words').text\n",
    "                overall_grade_element = WebDriverWait(block, 2).until(\n",
    "                    EC.presence_of_element_located((By.XPATH, './/div[@class=\"text-sm font-semibold\"]/div[2]'))\n",
    "                )\n",
    "                overall_grade = overall_grade_element.text\n",
    "                \n",
    "                stats = block.find_elements(By.CSS_SELECTOR, 'div.flex.flex-row.text-xs.font-semibold.space-x-2 > div')\n",
    "                grade = stats[0].find_element(By.CSS_SELECTOR, 'div:nth-child(2)').text\n",
    "                difficulty = stats[1].find_element(By.CSS_SELECTOR, 'div:nth-child(2)').text\n",
    "                useful = stats[2].find_element(By.CSS_SELECTOR, 'div:nth-child(2)').text\n",
    "                comments = int(stats[3].find_element(By.CSS_SELECTOR, 'div:nth-child(2)').text)\n",
    "                \n",
    "                new_row = pd.Series([course_name, name, overall_grade, grade, difficulty, useful, comments], index=df.columns)\n",
    "                df.loc[len(df)] = new_row\n",
    "                \n",
    "                total_entries += 1\n",
    "                course_entries += 1\n",
    "            \n",
    "            except Exception as e:\n",
    "                pbar.write(f\"something went wrong with {course_name}\")\n",
    "                continue\n",
    "        \n",
    "            pbar.set_description(f\"Processing {course_name}: {name} | Total entries: {total_entries}\")\n",
    "    \n",
    "    except Exception as e:\n",
    "        pbar.write(f\"something went wrong with {course_name}\")\n",
    "        continue\n",
    "    \n",
    "    pbar.update(1)\n",
    "\n",
    "wd.quit()\n",
    "pbar.close()"
   ]
  },
  {
   "cell_type": "code",
   "execution_count": 10,
   "id": "6d27aa28-4ef5-481d-bb8c-56b8ccb8ad8c",
   "metadata": {},
   "outputs": [],
   "source": [
    "# save to csv\n",
    "df.to_csv('GE_raw.csv', index=False)"
   ]
  },
  {
   "cell_type": "code",
   "execution_count": 11,
   "id": "6a7e313b-1439-43d8-860e-e53e61df6793",
   "metadata": {},
   "outputs": [
    {
     "data": {
      "text/html": [
       "<div>\n",
       "<style scoped>\n",
       "    .dataframe tbody tr th:only-of-type {\n",
       "        vertical-align: middle;\n",
       "    }\n",
       "\n",
       "    .dataframe tbody tr th {\n",
       "        vertical-align: top;\n",
       "    }\n",
       "\n",
       "    .dataframe thead th {\n",
       "        text-align: right;\n",
       "    }\n",
       "</style>\n",
       "<table border=\"1\" class=\"dataframe\">\n",
       "  <thead>\n",
       "    <tr style=\"text-align: right;\">\n",
       "      <th></th>\n",
       "      <th>course_name</th>\n",
       "      <th>name</th>\n",
       "      <th>overall_grade</th>\n",
       "      <th>grade</th>\n",
       "      <th>difficulty</th>\n",
       "      <th>useful</th>\n",
       "      <th>comments</th>\n",
       "    </tr>\n",
       "  </thead>\n",
       "  <tbody>\n",
       "    <tr>\n",
       "      <th>0</th>\n",
       "      <td>GEST1001</td>\n",
       "      <td>KUAN UN FONG</td>\n",
       "      <td>C+</td>\n",
       "      <td>B</td>\n",
       "      <td>B</td>\n",
       "      <td>B</td>\n",
       "      <td>40</td>\n",
       "    </tr>\n",
       "    <tr>\n",
       "      <th>1</th>\n",
       "      <td>GEST1001</td>\n",
       "      <td>LAO WUN LEI</td>\n",
       "      <td>C+</td>\n",
       "      <td>B-</td>\n",
       "      <td>C+</td>\n",
       "      <td>B-</td>\n",
       "      <td>45</td>\n",
       "    </tr>\n",
       "    <tr>\n",
       "      <th>2</th>\n",
       "      <td>GEST1001</td>\n",
       "      <td>YEUNG YAU LUN</td>\n",
       "      <td>B-</td>\n",
       "      <td>C</td>\n",
       "      <td>C</td>\n",
       "      <td>C+</td>\n",
       "      <td>3</td>\n",
       "    </tr>\n",
       "    <tr>\n",
       "      <th>3</th>\n",
       "      <td>GEST1001</td>\n",
       "      <td>JIAO YIFAN</td>\n",
       "      <td>B-</td>\n",
       "      <td>B</td>\n",
       "      <td>B-</td>\n",
       "      <td>B</td>\n",
       "      <td>4</td>\n",
       "    </tr>\n",
       "    <tr>\n",
       "      <th>4</th>\n",
       "      <td>GEST1001</td>\n",
       "      <td>PUN SAU TAK</td>\n",
       "      <td>D</td>\n",
       "      <td>D</td>\n",
       "      <td>D+</td>\n",
       "      <td>D</td>\n",
       "      <td>18</td>\n",
       "    </tr>\n",
       "    <tr>\n",
       "      <th>...</th>\n",
       "      <td>...</td>\n",
       "      <td>...</td>\n",
       "      <td>...</td>\n",
       "      <td>...</td>\n",
       "      <td>...</td>\n",
       "      <td>...</td>\n",
       "      <td>...</td>\n",
       "    </tr>\n",
       "    <tr>\n",
       "      <th>268</th>\n",
       "      <td>GESB1005</td>\n",
       "      <td>KONG WA</td>\n",
       "      <td>N/A</td>\n",
       "      <td>N/A</td>\n",
       "      <td>N/A</td>\n",
       "      <td>N/A</td>\n",
       "      <td>0</td>\n",
       "    </tr>\n",
       "    <tr>\n",
       "      <th>269</th>\n",
       "      <td>GEST1010</td>\n",
       "      <td>IP WENG FAI</td>\n",
       "      <td>C</td>\n",
       "      <td>D+</td>\n",
       "      <td>C-</td>\n",
       "      <td>D+</td>\n",
       "      <td>15</td>\n",
       "    </tr>\n",
       "    <tr>\n",
       "      <th>270</th>\n",
       "      <td>GEST1010</td>\n",
       "      <td>MAK PENG UN</td>\n",
       "      <td>N/A</td>\n",
       "      <td>N/A</td>\n",
       "      <td>N/A</td>\n",
       "      <td>N/A</td>\n",
       "      <td>0</td>\n",
       "    </tr>\n",
       "    <tr>\n",
       "      <th>271</th>\n",
       "      <td>GESB2003</td>\n",
       "      <td>JOSEPH ADEA SY-CHANGCO</td>\n",
       "      <td>C</td>\n",
       "      <td>C+</td>\n",
       "      <td>C+</td>\n",
       "      <td>C-</td>\n",
       "      <td>20</td>\n",
       "    </tr>\n",
       "    <tr>\n",
       "      <th>272</th>\n",
       "      <td>GESB2003</td>\n",
       "      <td>MAC VAI IUN</td>\n",
       "      <td>N/A</td>\n",
       "      <td>N/A</td>\n",
       "      <td>N/A</td>\n",
       "      <td>N/A</td>\n",
       "      <td>0</td>\n",
       "    </tr>\n",
       "  </tbody>\n",
       "</table>\n",
       "<p>273 rows × 7 columns</p>\n",
       "</div>"
      ],
      "text/plain": [
       "    course_name                    name overall_grade grade difficulty useful  \\\n",
       "0      GEST1001            KUAN UN FONG            C+     B          B      B   \n",
       "1      GEST1001             LAO WUN LEI            C+    B-         C+     B-   \n",
       "2      GEST1001           YEUNG YAU LUN            B-     C          C     C+   \n",
       "3      GEST1001              JIAO YIFAN            B-     B         B-      B   \n",
       "4      GEST1001             PUN SAU TAK             D     D         D+      D   \n",
       "..          ...                     ...           ...   ...        ...    ...   \n",
       "268    GESB1005                 KONG WA           N/A   N/A        N/A    N/A   \n",
       "269    GEST1010             IP WENG FAI             C    D+         C-     D+   \n",
       "270    GEST1010             MAK PENG UN           N/A   N/A        N/A    N/A   \n",
       "271    GESB2003  JOSEPH ADEA SY-CHANGCO             C    C+         C+     C-   \n",
       "272    GESB2003             MAC VAI IUN           N/A   N/A        N/A    N/A   \n",
       "\n",
       "    comments  \n",
       "0         40  \n",
       "1         45  \n",
       "2          3  \n",
       "3          4  \n",
       "4         18  \n",
       "..       ...  \n",
       "268        0  \n",
       "269       15  \n",
       "270        0  \n",
       "271       20  \n",
       "272        0  \n",
       "\n",
       "[273 rows x 7 columns]"
      ]
     },
     "execution_count": 11,
     "metadata": {},
     "output_type": "execute_result"
    }
   ],
   "source": [
    "df"
   ]
  }
 ],
 "metadata": {
  "kernelspec": {
   "display_name": "Python 3 (ipykernel)",
   "language": "python",
   "name": "python3"
  },
  "language_info": {
   "codemirror_mode": {
    "name": "ipython",
    "version": 3
   },
   "file_extension": ".py",
   "mimetype": "text/x-python",
   "name": "python",
   "nbconvert_exporter": "python",
   "pygments_lexer": "ipython3",
   "version": "3.12.4"
  }
 },
 "nbformat": 4,
 "nbformat_minor": 5
}
