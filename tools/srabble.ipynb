{
 "cells": [
  {
   "cell_type": "code",
   "execution_count": 1,
   "id": "fee7252c-437d-49b6-9a2d-ebc99f094612",
   "metadata": {},
   "outputs": [],
   "source": [
    "# Set your parameters\n",
    "class_type = \"GE\"  # GE or CM"
   ]
  },
  {
   "cell_type": "code",
   "execution_count": 2,
   "id": "24f40d4e-5633-42f7-b69e-422dd4eb87b9",
   "metadata": {},
   "outputs": [],
   "source": [
    "import numpy as np\n",
    "import pandas as pd\n",
    "df = pd.read_excel(f'{class_type}.xlsx')"
   ]
  },
  {
   "cell_type": "code",
   "execution_count": 3,
   "id": "7c85d501-6c71-4843-8c37-01315d329729",
   "metadata": {},
   "outputs": [],
   "source": [
    "course_list = df.iloc[:, 2].tolist()"
   ]
  },
  {
   "cell_type": "code",
   "execution_count": 4,
   "id": "a771e3b3-de4d-4cd6-8cb2-d999e04ea096",
   "metadata": {},
   "outputs": [],
   "source": [
    "course_list = course_list[3:]"
   ]
  },
  {
   "cell_type": "code",
   "execution_count": 5,
   "id": "fe9dd844-9274-4925-a8ba-4b200bfc1a55",
   "metadata": {},
   "outputs": [],
   "source": [
    "course_list = list(set(course_list))"
   ]
  },
  {
   "cell_type": "code",
   "execution_count": 6,
   "id": "4da26ecf-5517-41e5-ad20-41229d2ce895",
   "metadata": {},
   "outputs": [],
   "source": [
    "with open(f'{class_type} course name.txt', 'w') as file:\n",
    "    for course in course_list:\n",
    "        file.write(str(course) + '\\n')"
   ]
  },
  {
   "cell_type": "code",
   "execution_count": 7,
   "id": "08352dfd-dfda-4523-be29-d08b93b0dc97",
   "metadata": {},
   "outputs": [
    {
     "data": {
      "text/plain": [
       "['GEST1007',\n",
       " 'GEGA3001',\n",
       " 'GESB1009',\n",
       " 'GELH2005',\n",
       " 'GEST1002',\n",
       " 'GEGA1008',\n",
       " 'GESB2002',\n",
       " 'GEST2003',\n",
       " 'GEST1017',\n",
       " 'GELH2010']"
      ]
     },
     "execution_count": 7,
     "metadata": {},
     "output_type": "execute_result"
    }
   ],
   "source": [
    "course_list[:10]"
   ]
  },
  {
   "cell_type": "code",
   "execution_count": 8,
   "id": "32315f1b-7c5f-4e76-87d2-cd6838e55251",
   "metadata": {},
   "outputs": [
    {
     "name": "stderr",
     "output_type": "stream",
     "text": [
      "Processing GEST1002: CHEN QIANG / ZHENG WENHUA | Total entries: 61:   9%| | 5/58 [00:15<02:19,  2.63"
     ]
    },
    {
     "name": "stdout",
     "output_type": "stream",
     "text": [
      "something went wrong with GEGA1008\n"
     ]
    },
    {
     "name": "stderr",
     "output_type": "stream",
     "text": [
      "Processing GEST1017: WANG RUIBING | Total entries: 79:  14%|█▏       | 8/58 [00:25<02:16,  2.72s/it]"
     ]
    },
    {
     "name": "stdout",
     "output_type": "stream",
     "text": [
      "something went wrong with GELH2010\n"
     ]
    },
    {
     "name": "stderr",
     "output_type": "stream",
     "text": [
      "Processing GELH2002: GLEN TIMMERMANS | Total entries: 80:  16%|▉     | 9/58 [00:30<02:55,  3.57s/it]"
     ]
    },
    {
     "name": "stdout",
     "output_type": "stream",
     "text": [
      "something went wrong with GEGA1001\n"
     ]
    },
    {
     "name": "stderr",
     "output_type": "stream",
     "text": [
      "Processing GELH2008: LEI WAI SENG | Total entries: 154:  29%|██     | 17/58 [00:51<01:23,  2.03s/it]"
     ]
    },
    {
     "name": "stdout",
     "output_type": "stream",
     "text": [
      "something went wrong with GESB1015\n"
     ]
    },
    {
     "name": "stderr",
     "output_type": "stream",
     "text": [
      "Processing GEST1003: ZENG QIANG | Total entries: 163:  34%|███      | 20/58 [01:00<01:29,  2.36s/it]"
     ]
    },
    {
     "name": "stdout",
     "output_type": "stream",
     "text": [
      "something went wrong with GELH1012\n"
     ]
    },
    {
     "name": "stderr",
     "output_type": "stream",
     "text": [
      "Processing GEST1015: HUI KWUN NAM | Total entries: 276:  74%|█████▏ | 43/58 [01:45<00:26,  1.75s/it]"
     ]
    },
    {
     "name": "stdout",
     "output_type": "stream",
     "text": [
      "something went wrong with GELH1009\n"
     ]
    },
    {
     "name": "stderr",
     "output_type": "stream",
     "text": [
      "Processing GEST2002: SIT HO YI | Total entries: 341:  86%|████████▌ | 50/58 [02:04<00:16,  2.02s/it]"
     ]
    },
    {
     "name": "stdout",
     "output_type": "stream",
     "text": [
      "something went wrong with GEGA2008\n"
     ]
    },
    {
     "name": "stderr",
     "output_type": "stream",
     "text": [
      "Processing GESB2001: CHEN FEIER | Total entries: 343:  88%|███████▉ | 51/58 [02:08<00:17,  2.51s/it]\n"
     ]
    }
   ],
   "source": [
    "from selenium import webdriver\n",
    "from selenium.webdriver.common.by import By\n",
    "from selenium.webdriver.support.ui import WebDriverWait\n",
    "from selenium.webdriver.support import expected_conditions as EC\n",
    "import pandas as pd\n",
    "import time\n",
    "from tqdm import tqdm\n",
    "\n",
    "courses = []\n",
    "with open(f'{class_type} course name.txt', 'r') as file:\n",
    "    lines = file.read().splitlines()\n",
    "    courses = [line.strip() for line in lines]\n",
    "\n",
    "df = pd.DataFrame(columns=['course_name', 'name', 'overall_grade', 'grade', 'difficulty', 'useful', 'comments'])\n",
    "\n",
    "wd = webdriver.Edge()\n",
    "wd.implicitly_wait(2)\n",
    "\n",
    "total_entries = 0\n",
    "\n",
    "pbar = tqdm(total=len(courses), desc=\"Processing courses\", ncols=100)\n",
    "\n",
    "for course_name in courses:\n",
    "    wd.get(f\"https://www.umeh.top/course/{course_name}\")\n",
    "    time.sleep(1)\n",
    "    \n",
    "    try:\n",
    "        teacher_blocks = WebDriverWait(wd, 2).until(\n",
    "            EC.presence_of_all_elements_located((By.CSS_SELECTOR, 'a[href^=\"/reviews/\"]'))\n",
    "        )\n",
    "        \n",
    "        course_entries = 0\n",
    "        for block in teacher_blocks:\n",
    "            try:\n",
    "                name = block.find_element(By.CSS_SELECTOR, 'div.break-words').text\n",
    "                overall_grade_element = WebDriverWait(block, 2).until(\n",
    "                    EC.presence_of_element_located((By.XPATH, './/div[@class=\"text-sm font-semibold\"]/div[2]'))\n",
    "                )\n",
    "                overall_grade = overall_grade_element.text\n",
    "                \n",
    "                stats = block.find_elements(By.CSS_SELECTOR, 'div.flex.flex-row.text-xs.font-semibold.space-x-2 > div')\n",
    "                grade = stats[0].find_element(By.CSS_SELECTOR, 'div:nth-child(2)').text\n",
    "                difficulty = stats[1].find_element(By.CSS_SELECTOR, 'div:nth-child(2)').text\n",
    "                useful = stats[2].find_element(By.CSS_SELECTOR, 'div:nth-child(2)').text\n",
    "                comments = int(stats[3].find_element(By.CSS_SELECTOR, 'div:nth-child(2)').text)\n",
    "                \n",
    "                new_row = pd.Series([course_name, name, overall_grade, grade, difficulty, useful, comments], index=df.columns)\n",
    "                df.loc[len(df)] = new_row\n",
    "                \n",
    "                total_entries += 1\n",
    "                course_entries += 1\n",
    "            \n",
    "            except Exception as e:\n",
    "                pbar.write(f\"something went wrong with {course_name}\")\n",
    "                continue\n",
    "        \n",
    "            pbar.set_description(f\"Processing {course_name}: {name} | Total entries: {total_entries}\")\n",
    "    \n",
    "    except Exception as e:\n",
    "        pbar.write(f\"something went wrong with {course_name}\")\n",
    "        continue\n",
    "    \n",
    "    pbar.update(1)\n",
    "\n",
    "wd.quit()\n",
    "pbar.close()"
   ]
  },
  {
   "cell_type": "code",
   "execution_count": 9,
   "id": "6d27aa28-4ef5-481d-bb8c-56b8ccb8ad8c",
   "metadata": {},
   "outputs": [],
   "source": [
    "# save to csv\n",
    "df.to_csv(f'{class_type}_raw.csv', index=False)"
   ]
  },
  {
   "cell_type": "code",
   "execution_count": 11,
   "id": "6a7e313b-1439-43d8-860e-e53e61df6793",
   "metadata": {},
   "outputs": [
    {
     "data": {
      "text/html": [
       "<div>\n",
       "<style scoped>\n",
       "    .dataframe tbody tr th:only-of-type {\n",
       "        vertical-align: middle;\n",
       "    }\n",
       "\n",
       "    .dataframe tbody tr th {\n",
       "        vertical-align: top;\n",
       "    }\n",
       "\n",
       "    .dataframe thead th {\n",
       "        text-align: right;\n",
       "    }\n",
       "</style>\n",
       "<table border=\"1\" class=\"dataframe\">\n",
       "  <thead>\n",
       "    <tr style=\"text-align: right;\">\n",
       "      <th></th>\n",
       "      <th>course_name</th>\n",
       "      <th>name</th>\n",
       "      <th>overall_grade</th>\n",
       "      <th>grade</th>\n",
       "      <th>difficulty</th>\n",
       "      <th>useful</th>\n",
       "      <th>comments</th>\n",
       "    </tr>\n",
       "  </thead>\n",
       "  <tbody>\n",
       "    <tr>\n",
       "      <th>0</th>\n",
       "      <td>GEST1007</td>\n",
       "      <td>GARY WONG / LI GANG / QIAN LUO / WONG KOON HO</td>\n",
       "      <td>N/A</td>\n",
       "      <td>N/A</td>\n",
       "      <td>N/A</td>\n",
       "      <td>N/A</td>\n",
       "      <td>0</td>\n",
       "    </tr>\n",
       "    <tr>\n",
       "      <th>1</th>\n",
       "      <td>GEST1007</td>\n",
       "      <td>GARY WONG / WONG KOON HO</td>\n",
       "      <td>C+</td>\n",
       "      <td>B-</td>\n",
       "      <td>C+</td>\n",
       "      <td>B-</td>\n",
       "      <td>81</td>\n",
       "    </tr>\n",
       "    <tr>\n",
       "      <th>2</th>\n",
       "      <td>GEST1007</td>\n",
       "      <td>GARY WONG</td>\n",
       "      <td>N/A</td>\n",
       "      <td>N/A</td>\n",
       "      <td>N/A</td>\n",
       "      <td>N/A</td>\n",
       "      <td>0</td>\n",
       "    </tr>\n",
       "    <tr>\n",
       "      <th>3</th>\n",
       "      <td>GEST1007</td>\n",
       "      <td>LI GANG</td>\n",
       "      <td>N/A</td>\n",
       "      <td>N/A</td>\n",
       "      <td>N/A</td>\n",
       "      <td>N/A</td>\n",
       "      <td>0</td>\n",
       "    </tr>\n",
       "    <tr>\n",
       "      <th>4</th>\n",
       "      <td>GEST1007</td>\n",
       "      <td>GARY WONG / HONGJIE ZHANG / LI GANG / QIAN LUO...</td>\n",
       "      <td>N/A</td>\n",
       "      <td>N/A</td>\n",
       "      <td>N/A</td>\n",
       "      <td>N/A</td>\n",
       "      <td>0</td>\n",
       "    </tr>\n",
       "    <tr>\n",
       "      <th>5</th>\n",
       "      <td>GEST1007</td>\n",
       "      <td>WONG KOON HO</td>\n",
       "      <td>N/A</td>\n",
       "      <td>N/A</td>\n",
       "      <td>N/A</td>\n",
       "      <td>N/A</td>\n",
       "      <td>0</td>\n",
       "    </tr>\n",
       "    <tr>\n",
       "      <th>6</th>\n",
       "      <td>GEST1007</td>\n",
       "      <td>QIAN LUO</td>\n",
       "      <td>N/A</td>\n",
       "      <td>N/A</td>\n",
       "      <td>N/A</td>\n",
       "      <td>N/A</td>\n",
       "      <td>0</td>\n",
       "    </tr>\n",
       "    <tr>\n",
       "      <th>7</th>\n",
       "      <td>GEST1007</td>\n",
       "      <td>HONGJIE ZHANG</td>\n",
       "      <td>N/A</td>\n",
       "      <td>N/A</td>\n",
       "      <td>N/A</td>\n",
       "      <td>N/A</td>\n",
       "      <td>0</td>\n",
       "    </tr>\n",
       "    <tr>\n",
       "      <th>8</th>\n",
       "      <td>GEGA3001</td>\n",
       "      <td>WANG JIANWEI</td>\n",
       "      <td>C+</td>\n",
       "      <td>C</td>\n",
       "      <td>C+</td>\n",
       "      <td>C+</td>\n",
       "      <td>25</td>\n",
       "    </tr>\n",
       "    <tr>\n",
       "      <th>9</th>\n",
       "      <td>GEGA3001</td>\n",
       "      <td>CHUA YEE HONG</td>\n",
       "      <td>D</td>\n",
       "      <td>D+</td>\n",
       "      <td>D</td>\n",
       "      <td>D</td>\n",
       "      <td>54</td>\n",
       "    </tr>\n",
       "  </tbody>\n",
       "</table>\n",
       "</div>"
      ],
      "text/plain": [
       "  course_name                                               name  \\\n",
       "0    GEST1007      GARY WONG / LI GANG / QIAN LUO / WONG KOON HO   \n",
       "1    GEST1007                           GARY WONG / WONG KOON HO   \n",
       "2    GEST1007                                          GARY WONG   \n",
       "3    GEST1007                                            LI GANG   \n",
       "4    GEST1007  GARY WONG / HONGJIE ZHANG / LI GANG / QIAN LUO...   \n",
       "5    GEST1007                                       WONG KOON HO   \n",
       "6    GEST1007                                           QIAN LUO   \n",
       "7    GEST1007                                      HONGJIE ZHANG   \n",
       "8    GEGA3001                                       WANG JIANWEI   \n",
       "9    GEGA3001                                      CHUA YEE HONG   \n",
       "\n",
       "  overall_grade grade difficulty useful comments  \n",
       "0           N/A   N/A        N/A    N/A        0  \n",
       "1            C+    B-         C+     B-       81  \n",
       "2           N/A   N/A        N/A    N/A        0  \n",
       "3           N/A   N/A        N/A    N/A        0  \n",
       "4           N/A   N/A        N/A    N/A        0  \n",
       "5           N/A   N/A        N/A    N/A        0  \n",
       "6           N/A   N/A        N/A    N/A        0  \n",
       "7           N/A   N/A        N/A    N/A        0  \n",
       "8            C+     C         C+     C+       25  \n",
       "9             D    D+          D      D       54  "
      ]
     },
     "execution_count": 11,
     "metadata": {},
     "output_type": "execute_result"
    }
   ],
   "source": [
    "df[:10]"
   ]
  }
 ],
 "metadata": {
  "kernelspec": {
   "display_name": "Python 3 (ipykernel)",
   "language": "python",
   "name": "python3"
  },
  "language_info": {
   "codemirror_mode": {
    "name": "ipython",
    "version": 3
   },
   "file_extension": ".py",
   "mimetype": "text/x-python",
   "name": "python",
   "nbconvert_exporter": "python",
   "pygments_lexer": "ipython3",
   "version": "3.12.4"
  }
 },
 "nbformat": 4,
 "nbformat_minor": 5
}
