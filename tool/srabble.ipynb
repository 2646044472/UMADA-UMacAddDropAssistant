{
 "cells": [
  {
   "cell_type": "code",
   "execution_count": 1,
   "id": "24f40d4e-5633-42f7-b69e-422dd4eb87b9",
   "metadata": {},
   "outputs": [],
   "source": [
    "import numpy as np\n",
    "import pandas as pd\n",
    "df = pd.read_excel('CM.xlsx')"
   ]
  },
  {
   "cell_type": "code",
   "execution_count": 2,
   "id": "7c85d501-6c71-4843-8c37-01315d329729",
   "metadata": {},
   "outputs": [],
   "source": [
    "course_list = df.iloc[:, 2].tolist()"
   ]
  },
  {
   "cell_type": "code",
   "execution_count": 3,
   "id": "a771e3b3-de4d-4cd6-8cb2-d999e04ea096",
   "metadata": {},
   "outputs": [],
   "source": [
    "course_list = course_list[3:]"
   ]
  },
  {
   "cell_type": "code",
   "execution_count": 4,
   "id": "fe9dd844-9274-4925-a8ba-4b200bfc1a55",
   "metadata": {},
   "outputs": [],
   "source": [
    "course_list = list(set(course_list))"
   ]
  },
  {
   "cell_type": "code",
   "execution_count": 5,
   "id": "4da26ecf-5517-41e5-ad20-41229d2ce895",
   "metadata": {},
   "outputs": [],
   "source": [
    "with open('CM course name.txt', 'w') as file:\n",
    "    for course in course_list:\n",
    "        file.write(str(course) + '\\n')"
   ]
  },
  {
   "cell_type": "code",
   "execution_count": 6,
   "id": "08352dfd-dfda-4523-be29-d08b93b0dc97",
   "metadata": {},
   "outputs": [
    {
     "data": {
      "text/plain": [
       "['LAWS3018',\n",
       " 'CIVL3001',\n",
       " 'EDUC2027',\n",
       " 'GPAD3000',\n",
       " 'GEGA2002',\n",
       " 'GEST2003',\n",
       " 'HSCI3010',\n",
       " 'LAWS2001',\n",
       " 'MATH3014',\n",
       " 'LAWS4006']"
      ]
     },
     "execution_count": 6,
     "metadata": {},
     "output_type": "execute_result"
    }
   ],
   "source": [
    "course_list[:10]"
   ]
  },
  {
   "cell_type": "code",
   "execution_count": 7,
   "id": "32315f1b-7c5f-4e76-87d2-cd6838e55251",
   "metadata": {},
   "outputs": [
    {
     "name": "stderr",
     "output_type": "stream",
     "text": [
      "Processing GEST2003: CHEN XIUPING | Total entries: 15:   1%|        | 6/562 [00:15<17:21,  1.87s/it]"
     ]
    },
    {
     "name": "stdout",
     "output_type": "stream",
     "text": [
      "处理课程 HSCI3010 时出错: Message: \n",
      "\n"
     ]
    },
    {
     "name": "stderr",
     "output_type": "stream",
     "text": [
      "Processing LAWS4035: CHAN U FU | Total entries: 45:   2%|▏         | 14/562 [00:34<17:15,  1.89s/it]"
     ]
    },
    {
     "name": "stdout",
     "output_type": "stream",
     "text": [
      "处理课程 APAC2006 时出错: Message: \n",
      "\n"
     ]
    },
    {
     "name": "stderr",
     "output_type": "stream",
     "text": [
      "Processing LAWS1001: IONG MAN TENG | Total entries: 56:   3%|▏     | 16/562 [00:42<25:13,  2.77s/it]"
     ]
    },
    {
     "name": "stdout",
     "output_type": "stream",
     "text": [
      "处理课程 JAPN4015 时出错: Message: \n",
      "\n"
     ]
    },
    {
     "name": "stderr",
     "output_type": "stream",
     "text": [
      "Processing IRTM4001: HOU YUANSI | Total entries: 290:  10%|▊       | 58/562 [02:08<13:58,  1.66s/it]"
     ]
    },
    {
     "name": "stdout",
     "output_type": "stream",
     "text": [
      "处理课程 EMEN3006 时出错: Message: \n",
      "\n"
     ]
    },
    {
     "name": "stderr",
     "output_type": "stream",
     "text": [
      "Processing ENGL3044: HARI VENKATESAN | Total entries: 402:  15%|▍  | 87/562 [03:03<13:27,  1.70s/it]"
     ]
    },
    {
     "name": "stdout",
     "output_type": "stream",
     "text": [
      "处理课程 HSCI3013 时出错: Message: \n",
      "\n"
     ]
    },
    {
     "name": "stderr",
     "output_type": "stream",
     "text": [
      "Processing EELC1008: LEE KAI CHUNG | Total entries: 469:  19%|▋   | 104/562 [03:37<13:47,  1.81s/it]"
     ]
    },
    {
     "name": "stdout",
     "output_type": "stream",
     "text": [
      "处理课程 MATH2011 时出错: Message: \n",
      "\n"
     ]
    },
    {
     "name": "stderr",
     "output_type": "stream",
     "text": [
      "Processing ECON3002: TAO YUBO | Total entries: 517:  21%|█▊       | 117/562 [04:04<13:52,  1.87s/it]"
     ]
    },
    {
     "name": "stdout",
     "output_type": "stream",
     "text": [
      "处理课程 EMEN3041 时出错: Message: \n",
      "\n"
     ]
    },
    {
     "name": "stderr",
     "output_type": "stream",
     "text": [
      "Processing LAWS1055: TEMP TEACHER | Total entries: 549:  23%|█▏   | 128/562 [04:28<12:30,  1.73s/it]"
     ]
    },
    {
     "name": "stdout",
     "output_type": "stream",
     "text": [
      "处理课程 nan 时出错: Message: \n",
      "\n"
     ]
    },
    {
     "name": "stderr",
     "output_type": "stream",
     "text": [
      "Processing GELH2002: GLEN TIMMERMANS | Total entries: 566:  24%|▍ | 135/562 [04:44<12:46,  1.79s/it]"
     ]
    },
    {
     "name": "stdout",
     "output_type": "stream",
     "text": [
      "处理课程 LAWS2018 时出错: Message: \n",
      "\n"
     ]
    },
    {
     "name": "stderr",
     "output_type": "stream",
     "text": [
      "Processing EDUC3003: TONG CHI MAN | Total entries: 804:  36%|█▊   | 202/562 [06:44<10:13,  1.71s/it]"
     ]
    },
    {
     "name": "stdout",
     "output_type": "stream",
     "text": [
      "处理课程 GELH1012 时出错: Message: \n",
      "\n"
     ]
    },
    {
     "name": "stderr",
     "output_type": "stream",
     "text": [
      "Processing APAC3000: QU SONGNAN | Total entries: 1096:  47%|██▊   | 262/562 [08:39<07:56,  1.59s/it]"
     ]
    },
    {
     "name": "stdout",
     "output_type": "stream",
     "text": [
      "处理课程 GEGA2008 时出错: Message: \n",
      "\n"
     ]
    },
    {
     "name": "stderr",
     "output_type": "stream",
     "text": [
      "Processing GEGA1006: LIN JINGHUANG | Total entries: 1125:  48%|█▍ | 268/562 [08:54<10:59,  2.24s/it]"
     ]
    },
    {
     "name": "stdout",
     "output_type": "stream",
     "text": [
      "处理课程 LAWS2017 时出错: Message: \n",
      "\n"
     ]
    },
    {
     "name": "stderr",
     "output_type": "stream",
     "text": [
      "Processing EDUC3021: KONG ZHAOWEI | Total entries: 1225:  53%|██  | 298/562 [09:50<07:57,  1.81s/it]"
     ]
    },
    {
     "name": "stdout",
     "output_type": "stream",
     "text": [
      "处理课程 LAWS2016 时出错: Message: \n",
      "\n"
     ]
    },
    {
     "name": "stderr",
     "output_type": "stream",
     "text": [
      "Processing GEST1014: CHAN IAT NENG | Total entries: 1260:  55%|█▋ | 308/562 [10:12<07:23,  1.75s/it]"
     ]
    },
    {
     "name": "stdout",
     "output_type": "stream",
     "text": [
      "处理课程 MKTG4011 时出错: Message: \n",
      "\n"
     ]
    },
    {
     "name": "stderr",
     "output_type": "stream",
     "text": [
      "Processing COMM2003: CHEANG KA IAN | Total entries: 1338:  59%|█▊ | 334/562 [11:00<06:24,  1.69s/it]"
     ]
    },
    {
     "name": "stdout",
     "output_type": "stream",
     "text": [
      "处理课程 LAWS2026 时出错: Message: \n",
      "\n"
     ]
    },
    {
     "name": "stderr",
     "output_type": "stream",
     "text": [
      "Processing HIST3015: ANTONIO MARIA DE SOUSA E VASCONCELOS SIMAO DE SALDANHA | Total entries: 1387:  "
     ]
    },
    {
     "name": "stdout",
     "output_type": "stream",
     "text": [
      "处理课程 GELH1009 时出错: Message: \n",
      "\n"
     ]
    },
    {
     "name": "stderr",
     "output_type": "stream",
     "text": [
      "Processing PSYC4008: XIAO TING | Total entries: 1428:  62%|████▎  | 349/562 [11:38<06:10,  1.74s/it]"
     ]
    },
    {
     "name": "stdout",
     "output_type": "stream",
     "text": [
      "处理课程 GEGA1001 时出错: Message: \n",
      "\n"
     ]
    },
    {
     "name": "stderr",
     "output_type": "stream",
     "text": [
      "Processing LAWS3003: IONG MAN TENG | Total entries: 1483:  64%|█▉ | 359/562 [12:01<05:49,  1.72s/it]"
     ]
    },
    {
     "name": "stdout",
     "output_type": "stream",
     "text": [
      "处理课程 GEGA1008 时出错: Message: \n",
      "\n"
     ]
    },
    {
     "name": "stderr",
     "output_type": "stream",
     "text": [
      "Processing GPAD2002: SIU YEUNG FAI, PHILIP | Total entries: 1488:  64%|▋| 361/562 [12:08<08:39,  2.5"
     ]
    },
    {
     "name": "stdout",
     "output_type": "stream",
     "text": [
      "处理课程 Course Code 时出错: Message: \n",
      "\n"
     ]
    },
    {
     "name": "stderr",
     "output_type": "stream",
     "text": [
      "Processing GPAD2001: WEN BO | Total entries: 1514:  66%|██████▌   | 370/562 [12:27<05:46,  1.81s/it]"
     ]
    },
    {
     "name": "stdout",
     "output_type": "stream",
     "text": [
      "处理课程 LAWS2015 时出错: Message: \n",
      "\n"
     ]
    },
    {
     "name": "stderr",
     "output_type": "stream",
     "text": [
      "Processing COMM3021: MATIAS DOS SANTOS JOSÉ CARLOS | Total entries: 1684:  73%|▋| 409/562 [13:42<04:"
     ]
    },
    {
     "name": "stdout",
     "output_type": "stream",
     "text": [
      "处理课程 LAWS2020 时出错: Message: \n",
      "\n"
     ]
    },
    {
     "name": "stderr",
     "output_type": "stream",
     "text": [
      "Processing ISOM4006: CHAN WING HAN BRENDA | Total entries: 1697:  74%|▋| 415/562 [13:56<04:30,  1.84"
     ]
    },
    {
     "name": "stdout",
     "output_type": "stream",
     "text": [
      "处理课程 HSCI3011 时出错: Message: \n",
      "\n"
     ]
    },
    {
     "name": "stderr",
     "output_type": "stream",
     "text": [
      "Processing PSYC4003: KWAN YAN YEE LETTY | Total entries: 1736:  76%|▊| 425/562 [14:18<04:03,  1.77s/"
     ]
    },
    {
     "name": "stdout",
     "output_type": "stream",
     "text": [
      "处理课程 HSCI3007 时出错: Message: \n",
      "\n"
     ]
    },
    {
     "name": "stderr",
     "output_type": "stream",
     "text": [
      "Processing PSYC4003: KWAN YAN YEE LETTY | Total entries: 1736:  76%|▊| 425/562 [14:22<04:03,  1.77s/"
     ]
    },
    {
     "name": "stdout",
     "output_type": "stream",
     "text": [
      "处理课程 HSCI3012 时出错: Message: \n",
      "\n"
     ]
    },
    {
     "name": "stderr",
     "output_type": "stream",
     "text": [
      "Processing LAWS4010: ZHAI XIAOBO | Total entries: 2043:  90%|████▌| 508/562 [16:50<01:27,  1.63s/it]"
     ]
    },
    {
     "name": "stdout",
     "output_type": "stream",
     "text": [
      "处理课程 GELH2010 时出错: Message: \n",
      "\n"
     ]
    },
    {
     "name": "stderr",
     "output_type": "stream",
     "text": [
      "Processing LAWS2004: HUGO EMANUEL DE MIRANDA RODRIGUES DUARTE FONSECA | Total entries: 2093:  93%|▉|"
     ]
    },
    {
     "name": "stdout",
     "output_type": "stream",
     "text": [
      "处理课程 GESB1015 时出错: Message: \n",
      "\n"
     ]
    },
    {
     "name": "stderr",
     "output_type": "stream",
     "text": [
      "Processing EMEN4000: YANG ZHIXIN | Total entries: 2202:  95%|████▊| 536/562 [17:50<00:51,  2.00s/it]\n"
     ]
    }
   ],
   "source": [
    "from selenium import webdriver\n",
    "from selenium.webdriver.common.by import By\n",
    "from selenium.webdriver.support.ui import WebDriverWait\n",
    "from selenium.webdriver.support import expected_conditions as EC\n",
    "import pandas as pd\n",
    "import time\n",
    "from tqdm import tqdm\n",
    "\n",
    "courses = []\n",
    "with open('CM course name.txt', 'r') as file:\n",
    "    lines = file.read().splitlines()\n",
    "    courses = [line.strip() for line in lines]\n",
    "\n",
    "df = pd.DataFrame(columns=['course_name', 'name', 'overall_grade', 'grade', 'difficulty', 'useful', 'comments'])\n",
    "\n",
    "wd = webdriver.Edge()\n",
    "wd.implicitly_wait(2)\n",
    "\n",
    "total_entries = 0\n",
    "\n",
    "# 使用 tqdm 创建进度条\n",
    "pbar = tqdm(total=len(courses), desc=\"Processing courses\", ncols=100)\n",
    "\n",
    "for course_name in courses:\n",
    "    wd.get(f\"https://www.umeh.top/course/{course_name}\")\n",
    "    time.sleep(1)\n",
    "    \n",
    "    try:\n",
    "        teacher_blocks = WebDriverWait(wd, 2).until(\n",
    "            EC.presence_of_all_elements_located((By.CSS_SELECTOR, 'a[href^=\"/reviews/\"]'))\n",
    "        )\n",
    "        \n",
    "        course_entries = 0\n",
    "        for block in teacher_blocks:\n",
    "            try:\n",
    "                name = block.find_element(By.CSS_SELECTOR, 'div.break-words').text\n",
    "                overall_grade_element = WebDriverWait(block, 2).until(\n",
    "                    EC.presence_of_element_located((By.XPATH, './/div[@class=\"text-sm font-semibold\"]/div[2]'))\n",
    "                )\n",
    "                overall_grade = overall_grade_element.text\n",
    "                \n",
    "                stats = block.find_elements(By.CSS_SELECTOR, 'div.flex.flex-row.text-xs.font-semibold.space-x-2 > div')\n",
    "                grade = stats[0].find_element(By.CSS_SELECTOR, 'div:nth-child(2)').text\n",
    "                difficulty = stats[1].find_element(By.CSS_SELECTOR, 'div:nth-child(2)').text\n",
    "                useful = stats[2].find_element(By.CSS_SELECTOR, 'div:nth-child(2)').text\n",
    "                comments = int(stats[3].find_element(By.CSS_SELECTOR, 'div:nth-child(2)').text)\n",
    "                \n",
    "                new_row = pd.Series([course_name, name, overall_grade, grade, difficulty, useful, comments], index=df.columns)\n",
    "                df.loc[len(df)] = new_row\n",
    "                \n",
    "                total_entries += 1\n",
    "                course_entries += 1\n",
    "            \n",
    "            except Exception as e:\n",
    "                pbar.write(f\"处理教师信息块时出错: {e}\")\n",
    "                continue\n",
    "        \n",
    "            # 更新进度条描述\n",
    "            pbar.set_description(f\"Processing {course_name}: {name} | Total entries: {total_entries}\")\n",
    "    \n",
    "    except Exception as e:\n",
    "        pbar.write(f\"处理课程 {course_name} 时出错: {e}\")\n",
    "        continue\n",
    "    \n",
    "    pbar.update(1)\n",
    "\n",
    "wd.quit()\n",
    "pbar.close()"
   ]
  },
  {
   "cell_type": "code",
   "execution_count": 9,
   "id": "6d27aa28-4ef5-481d-bb8c-56b8ccb8ad8c",
   "metadata": {},
   "outputs": [],
   "source": [
    "# 保存到CSV文件\n",
    "df.to_csv('CM_raw.csv', index=False)"
   ]
  },
  {
   "cell_type": "code",
   "execution_count": 10,
   "id": "6a7e313b-1439-43d8-860e-e53e61df6793",
   "metadata": {},
   "outputs": [
    {
     "data": {
      "text/html": [
       "<div>\n",
       "<style scoped>\n",
       "    .dataframe tbody tr th:only-of-type {\n",
       "        vertical-align: middle;\n",
       "    }\n",
       "\n",
       "    .dataframe tbody tr th {\n",
       "        vertical-align: top;\n",
       "    }\n",
       "\n",
       "    .dataframe thead th {\n",
       "        text-align: right;\n",
       "    }\n",
       "</style>\n",
       "<table border=\"1\" class=\"dataframe\">\n",
       "  <thead>\n",
       "    <tr style=\"text-align: right;\">\n",
       "      <th></th>\n",
       "      <th>course_name</th>\n",
       "      <th>name</th>\n",
       "      <th>overall_grade</th>\n",
       "      <th>grade</th>\n",
       "      <th>difficulty</th>\n",
       "      <th>useful</th>\n",
       "      <th>comments</th>\n",
       "    </tr>\n",
       "  </thead>\n",
       "  <tbody>\n",
       "    <tr>\n",
       "      <th>0</th>\n",
       "      <td>LAWS3018</td>\n",
       "      <td>CHAN CHI WENG</td>\n",
       "      <td>N/A</td>\n",
       "      <td>N/A</td>\n",
       "      <td>N/A</td>\n",
       "      <td>N/A</td>\n",
       "      <td>0</td>\n",
       "    </tr>\n",
       "    <tr>\n",
       "      <th>1</th>\n",
       "      <td>LAWS3018</td>\n",
       "      <td>VIDEIRA HENRIQUES PAULO ALBERTO</td>\n",
       "      <td>N/A</td>\n",
       "      <td>N/A</td>\n",
       "      <td>N/A</td>\n",
       "      <td>N/A</td>\n",
       "      <td>0</td>\n",
       "    </tr>\n",
       "    <tr>\n",
       "      <th>2</th>\n",
       "      <td>LAWS3018</td>\n",
       "      <td>IAU TENG PIO</td>\n",
       "      <td>N/A</td>\n",
       "      <td>N/A</td>\n",
       "      <td>N/A</td>\n",
       "      <td>N/A</td>\n",
       "      <td>0</td>\n",
       "    </tr>\n",
       "    <tr>\n",
       "      <th>3</th>\n",
       "      <td>LAWS3018</td>\n",
       "      <td>JOAO LORETO ILHAO MOREIRA</td>\n",
       "      <td>N/A</td>\n",
       "      <td>N/A</td>\n",
       "      <td>N/A</td>\n",
       "      <td>N/A</td>\n",
       "      <td>0</td>\n",
       "    </tr>\n",
       "    <tr>\n",
       "      <th>4</th>\n",
       "      <td>LAWS3018</td>\n",
       "      <td>CHU LAM LAM</td>\n",
       "      <td>N/A</td>\n",
       "      <td>N/A</td>\n",
       "      <td>N/A</td>\n",
       "      <td>N/A</td>\n",
       "      <td>0</td>\n",
       "    </tr>\n",
       "    <tr>\n",
       "      <th>...</th>\n",
       "      <td>...</td>\n",
       "      <td>...</td>\n",
       "      <td>...</td>\n",
       "      <td>...</td>\n",
       "      <td>...</td>\n",
       "      <td>...</td>\n",
       "      <td>...</td>\n",
       "    </tr>\n",
       "    <tr>\n",
       "      <th>2197</th>\n",
       "      <td>EMEN4000</td>\n",
       "      <td>KWOK CHI TAT / TAM LAP MOU</td>\n",
       "      <td>N/A</td>\n",
       "      <td>N/A</td>\n",
       "      <td>N/A</td>\n",
       "      <td>N/A</td>\n",
       "      <td>0</td>\n",
       "    </tr>\n",
       "    <tr>\n",
       "      <th>2198</th>\n",
       "      <td>EMEN4000</td>\n",
       "      <td>KONG HUI</td>\n",
       "      <td>N/A</td>\n",
       "      <td>N/A</td>\n",
       "      <td>N/A</td>\n",
       "      <td>N/A</td>\n",
       "      <td>0</td>\n",
       "    </tr>\n",
       "    <tr>\n",
       "      <th>2199</th>\n",
       "      <td>EMEN4000</td>\n",
       "      <td>XU QINGSONG</td>\n",
       "      <td>N/A</td>\n",
       "      <td>N/A</td>\n",
       "      <td>N/A</td>\n",
       "      <td>N/A</td>\n",
       "      <td>0</td>\n",
       "    </tr>\n",
       "    <tr>\n",
       "      <th>2200</th>\n",
       "      <td>EMEN4000</td>\n",
       "      <td>IP WENG FAI</td>\n",
       "      <td>N/A</td>\n",
       "      <td>N/A</td>\n",
       "      <td>N/A</td>\n",
       "      <td>N/A</td>\n",
       "      <td>0</td>\n",
       "    </tr>\n",
       "    <tr>\n",
       "      <th>2201</th>\n",
       "      <td>EMEN4000</td>\n",
       "      <td>YANG ZHIXIN</td>\n",
       "      <td>D-</td>\n",
       "      <td>F</td>\n",
       "      <td>F</td>\n",
       "      <td>F</td>\n",
       "      <td>1</td>\n",
       "    </tr>\n",
       "  </tbody>\n",
       "</table>\n",
       "<p>2202 rows × 7 columns</p>\n",
       "</div>"
      ],
      "text/plain": [
       "     course_name                             name overall_grade grade  \\\n",
       "0       LAWS3018                    CHAN CHI WENG           N/A   N/A   \n",
       "1       LAWS3018  VIDEIRA HENRIQUES PAULO ALBERTO           N/A   N/A   \n",
       "2       LAWS3018                     IAU TENG PIO           N/A   N/A   \n",
       "3       LAWS3018        JOAO LORETO ILHAO MOREIRA           N/A   N/A   \n",
       "4       LAWS3018                      CHU LAM LAM           N/A   N/A   \n",
       "...          ...                              ...           ...   ...   \n",
       "2197    EMEN4000       KWOK CHI TAT / TAM LAP MOU           N/A   N/A   \n",
       "2198    EMEN4000                         KONG HUI           N/A   N/A   \n",
       "2199    EMEN4000                      XU QINGSONG           N/A   N/A   \n",
       "2200    EMEN4000                      IP WENG FAI           N/A   N/A   \n",
       "2201    EMEN4000                      YANG ZHIXIN            D-     F   \n",
       "\n",
       "     difficulty useful comments  \n",
       "0           N/A    N/A        0  \n",
       "1           N/A    N/A        0  \n",
       "2           N/A    N/A        0  \n",
       "3           N/A    N/A        0  \n",
       "4           N/A    N/A        0  \n",
       "...         ...    ...      ...  \n",
       "2197        N/A    N/A        0  \n",
       "2198        N/A    N/A        0  \n",
       "2199        N/A    N/A        0  \n",
       "2200        N/A    N/A        0  \n",
       "2201          F      F        1  \n",
       "\n",
       "[2202 rows x 7 columns]"
      ]
     },
     "execution_count": 10,
     "metadata": {},
     "output_type": "execute_result"
    }
   ],
   "source": [
    "df"
   ]
  },
  {
   "cell_type": "code",
   "execution_count": null,
   "id": "146643c6-7135-468a-86ee-17659c3b521e",
   "metadata": {},
   "outputs": [],
   "source": []
  }
 ],
 "metadata": {
  "kernelspec": {
   "display_name": "Python 3 (ipykernel)",
   "language": "python",
   "name": "python3"
  },
  "language_info": {
   "codemirror_mode": {
    "name": "ipython",
    "version": 3
   },
   "file_extension": ".py",
   "mimetype": "text/x-python",
   "name": "python",
   "nbconvert_exporter": "python",
   "pygments_lexer": "ipython3",
   "version": "3.12.4"
  }
 },
 "nbformat": 4,
 "nbformat_minor": 5
}
